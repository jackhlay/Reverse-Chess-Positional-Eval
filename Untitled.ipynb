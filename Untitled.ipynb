{
 "cells": [
  {
   "cell_type": "markdown",
   "id": "8bb5eab3-563a-4919-83c7-4750450c734e",
   "metadata": {},
   "source": [
    "__Positional Eval Data from:__ https://www.kaggle.com/datasets/ronakbadhe/chess-evaluations?select=random_evals.csv\n"
   ]
  },
  {
   "cell_type": "code",
   "execution_count": 78,
   "id": "7ee1617a-0aa4-4b6c-9919-b0ed419a656b",
   "metadata": {
    "tags": []
   },
   "outputs": [],
   "source": [
    "import pandas as pd\n",
    "import numpy as np\n",
    "#Data: https://www.kaggle.com/datasets/ronakbadhe/chess-evaluations?select=random_evals.csv\n",
    "\n",
    "df = pd.read_csv(\"random_evals.csv\")"
   ]
  },
  {
   "cell_type": "code",
   "execution_count": 79,
   "id": "42f7817d-dc6f-461f-85ba-6dcb5ddb8d1c",
   "metadata": {
    "tags": []
   },
   "outputs": [
    {
     "data": {
      "text/html": [
       "<div>\n",
       "<style scoped>\n",
       "    .dataframe tbody tr th:only-of-type {\n",
       "        vertical-align: middle;\n",
       "    }\n",
       "\n",
       "    .dataframe tbody tr th {\n",
       "        vertical-align: top;\n",
       "    }\n",
       "\n",
       "    .dataframe thead th {\n",
       "        text-align: right;\n",
       "    }\n",
       "</style>\n",
       "<table border=\"1\" class=\"dataframe\">\n",
       "  <thead>\n",
       "    <tr style=\"text-align: right;\">\n",
       "      <th></th>\n",
       "      <th>FEN</th>\n",
       "      <th>Evaluation</th>\n",
       "      <th>Array</th>\n",
       "    </tr>\n",
       "  </thead>\n",
       "  <tbody>\n",
       "    <tr>\n",
       "      <th>0</th>\n",
       "      <td>rnbqkb1r/pppppppp/B4n2/8/4P3/8/PPPP1PPP/RNBQK1NR</td>\n",
       "      <td>-459</td>\n",
       "      <td>[[-5, -3, -3, -9, 0, -3, -10, -5], [-1, -1, -1...</td>\n",
       "    </tr>\n",
       "    <tr>\n",
       "      <th>1</th>\n",
       "      <td>rnbqkb1r/pppppppp/5n2/1B6/4P3/8/PPPP1PPP/RNBQK1NR</td>\n",
       "      <td>-125</td>\n",
       "      <td>[[-5, -3, -3, -9, 0, -3, -10, -5], [-1, -1, -1...</td>\n",
       "    </tr>\n",
       "    <tr>\n",
       "      <th>2</th>\n",
       "      <td>rnbqkbnr/p1pppppp/8/1p6/4P3/8/PPPP1PPP/RNBQKBNR</td>\n",
       "      <td>198</td>\n",
       "      <td>[[-5, -3, -3, -9, 0, -3, -3, -5], [-1, -10, -1...</td>\n",
       "    </tr>\n",
       "    <tr>\n",
       "      <th>3</th>\n",
       "      <td>rnbqkb1r/pppppppp/5n2/8/4P3/7N/PPPP1PPP/RNBQKB1R</td>\n",
       "      <td>-155</td>\n",
       "      <td>[[-5, -3, -3, -9, 0, -3, -10, -5], [-1, -1, -1...</td>\n",
       "    </tr>\n",
       "    <tr>\n",
       "      <th>4</th>\n",
       "      <td>rnbqkbnr/ppppp1pp/8/5p2/4P3/8/PPPP1PPP/RNBQKBNR</td>\n",
       "      <td>209</td>\n",
       "      <td>[[-5, -3, -3, -9, 0, -3, -3, -5], [-1, -1, -1,...</td>\n",
       "    </tr>\n",
       "    <tr>\n",
       "      <th>...</th>\n",
       "      <td>...</td>\n",
       "      <td>...</td>\n",
       "      <td>...</td>\n",
       "    </tr>\n",
       "    <tr>\n",
       "      <th>1000268</th>\n",
       "      <td>r1b1k2r/p2p1pp1/4pb1p/qp6/NnP5/P7/4PPPP/1R1QKBNR</td>\n",
       "      <td>-386</td>\n",
       "      <td>[[-5, -10, -3, -10, 0, -10, -10, -5], [-1, -10...</td>\n",
       "    </tr>\n",
       "    <tr>\n",
       "      <th>1000269</th>\n",
       "      <td>r1b1k2r/p2p1pp1/1p2pb1p/q7/NnP5/P7/4PPPP/1R1QKBNR</td>\n",
       "      <td>255</td>\n",
       "      <td>[[-5, -10, -3, -10, 0, -10, -10, -5], [-1, -10...</td>\n",
       "    </tr>\n",
       "    <tr>\n",
       "      <th>1000270</th>\n",
       "      <td>r1b1k2r/pp1p1pp1/q3pb1p/8/NnP5/P7/4PPPP/1R1QKBNR</td>\n",
       "      <td>89</td>\n",
       "      <td>[[-5, -10, -3, -10, 0, -10, -10, -5], [-1, -1,...</td>\n",
       "    </tr>\n",
       "    <tr>\n",
       "      <th>1000271</th>\n",
       "      <td>r1b1k2r/pp1p1p2/4pbpp/q7/NnP5/P7/4PPPP/1R1QKBNR</td>\n",
       "      <td>333</td>\n",
       "      <td>[[-5, -10, -3, -10, 0, -10, -10, -5], [-1, -1,...</td>\n",
       "    </tr>\n",
       "    <tr>\n",
       "      <th>1000272</th>\n",
       "      <td>r1b1k2r/pp1p1pp1/4pb2/q6p/NnP5/P7/4PPPP/1R1QKBNR</td>\n",
       "      <td>336</td>\n",
       "      <td>[[-5, -10, -3, -10, 0, -10, -10, -5], [-1, -1,...</td>\n",
       "    </tr>\n",
       "  </tbody>\n",
       "</table>\n",
       "<p>944009 rows × 3 columns</p>\n",
       "</div>"
      ],
      "text/plain": [
       "                                                       FEN  Evaluation  \\\n",
       "0         rnbqkb1r/pppppppp/B4n2/8/4P3/8/PPPP1PPP/RNBQK1NR        -459   \n",
       "1        rnbqkb1r/pppppppp/5n2/1B6/4P3/8/PPPP1PPP/RNBQK1NR        -125   \n",
       "2          rnbqkbnr/p1pppppp/8/1p6/4P3/8/PPPP1PPP/RNBQKBNR         198   \n",
       "3         rnbqkb1r/pppppppp/5n2/8/4P3/7N/PPPP1PPP/RNBQKB1R        -155   \n",
       "4          rnbqkbnr/ppppp1pp/8/5p2/4P3/8/PPPP1PPP/RNBQKBNR         209   \n",
       "...                                                    ...         ...   \n",
       "1000268   r1b1k2r/p2p1pp1/4pb1p/qp6/NnP5/P7/4PPPP/1R1QKBNR        -386   \n",
       "1000269  r1b1k2r/p2p1pp1/1p2pb1p/q7/NnP5/P7/4PPPP/1R1QKBNR         255   \n",
       "1000270   r1b1k2r/pp1p1pp1/q3pb1p/8/NnP5/P7/4PPPP/1R1QKBNR          89   \n",
       "1000271    r1b1k2r/pp1p1p2/4pbpp/q7/NnP5/P7/4PPPP/1R1QKBNR         333   \n",
       "1000272   r1b1k2r/pp1p1pp1/4pb2/q6p/NnP5/P7/4PPPP/1R1QKBNR         336   \n",
       "\n",
       "                                                     Array  \n",
       "0        [[-5, -3, -3, -9, 0, -3, -10, -5], [-1, -1, -1...  \n",
       "1        [[-5, -3, -3, -9, 0, -3, -10, -5], [-1, -1, -1...  \n",
       "2        [[-5, -3, -3, -9, 0, -3, -3, -5], [-1, -10, -1...  \n",
       "3        [[-5, -3, -3, -9, 0, -3, -10, -5], [-1, -1, -1...  \n",
       "4        [[-5, -3, -3, -9, 0, -3, -3, -5], [-1, -1, -1,...  \n",
       "...                                                    ...  \n",
       "1000268  [[-5, -10, -3, -10, 0, -10, -10, -5], [-1, -10...  \n",
       "1000269  [[-5, -10, -3, -10, 0, -10, -10, -5], [-1, -10...  \n",
       "1000270  [[-5, -10, -3, -10, 0, -10, -10, -5], [-1, -1,...  \n",
       "1000271  [[-5, -10, -3, -10, 0, -10, -10, -5], [-1, -1,...  \n",
       "1000272  [[-5, -10, -3, -10, 0, -10, -10, -5], [-1, -1,...  \n",
       "\n",
       "[944009 rows x 3 columns]"
      ]
     },
     "execution_count": 79,
     "metadata": {},
     "output_type": "execute_result"
    }
   ],
   "source": [
    "piece_values = {\n",
    "    \"P\": 1,\n",
    "    \"N\": 3,\n",
    "    \"B\": 3,\n",
    "    \"R\": 5,\n",
    "    \"Q\": 9,\n",
    "    \"K\": 0,\n",
    "    \"p\": -1,\n",
    "    \"n\": -3,\n",
    "    \"b\": -3,\n",
    "    \"r\": -5,\n",
    "    \"q\": -9,\n",
    "    \"k\": 0,\n",
    "    \".\": -10 # use -10 to represent an empty space\n",
    "}\n",
    "\n",
    "def fen_to_array(fen_str):\n",
    "    board = [[-10 for _ in range(8)] for _ in range(8)] # initialize the board with -10\n",
    "    i = 0\n",
    "    f = 0\n",
    "    for c in fen_str:\n",
    "        if c.isdigit():\n",
    "            i += int(c)\n",
    "        elif c == '/':\n",
    "            f += 1\n",
    "            i = 0\n",
    "        else:\n",
    "            board[f][i] = piece_values[c] # use the dictionary to assign numbers\n",
    "            i += 1\n",
    "    return np.array(board)\n",
    "\n",
    "df['FEN'] = df['FEN'].str.split().str[0]\n",
    "df['Array'] = df['FEN'].apply(fen_to_array)\n",
    "df['Array'] = df['Array'].apply(np.array)\n",
    "df = df[~df['Evaluation'].str.contains('#')]\n",
    "df[\"Evaluation\"] = df[\"Evaluation\"].astype(int)\n",
    "df.to_csv('Positions.csv', index=False)\n",
    "df"
   ]
  },
  {
   "cell_type": "code",
   "execution_count": 80,
   "id": "1d6d1908",
   "metadata": {},
   "outputs": [
    {
     "data": {
      "text/plain": [
       "FEN           object\n",
       "Evaluation     int32\n",
       "Array         object\n",
       "dtype: object"
      ]
     },
     "execution_count": 80,
     "metadata": {},
     "output_type": "execute_result"
    }
   ],
   "source": [
    "df.dtypes"
   ]
  },
  {
   "cell_type": "code",
   "execution_count": null,
   "id": "963b5343",
   "metadata": {},
   "outputs": [],
   "source": []
  }
 ],
 "metadata": {
  "kernelspec": {
   "display_name": "Python 3 (ipykernel)",
   "language": "python",
   "name": "python3"
  },
  "language_info": {
   "codemirror_mode": {
    "name": "ipython",
    "version": 3
   },
   "file_extension": ".py",
   "mimetype": "text/x-python",
   "name": "python",
   "nbconvert_exporter": "python",
   "pygments_lexer": "ipython3",
   "version": "3.7.9"
  }
 },
 "nbformat": 4,
 "nbformat_minor": 5
}
